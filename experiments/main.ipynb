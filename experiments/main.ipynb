{
 "cells": [
  {
   "cell_type": "code",
   "execution_count": 103,
   "metadata": {},
   "outputs": [
    {
     "name": "stdout",
     "output_type": "stream",
     "text": [
      "Processing /home/cerchio/Documents/code/GDL_2022/tsl\n",
      "Requirement already satisfied: PyYAML in /home/cerchio/Documents/code/GDL_2022/venv/lib/python3.9/site-packages (from torch-spatiotemporal===0.1.1e) (6.0)\n",
      "Requirement already satisfied: einops in /home/cerchio/Documents/code/GDL_2022/venv/lib/python3.9/site-packages (from torch-spatiotemporal===0.1.1e) (0.4.1)\n",
      "Requirement already satisfied: numpy in /home/cerchio/Documents/code/GDL_2022/venv/lib/python3.9/site-packages (from torch-spatiotemporal===0.1.1e) (1.22.3)\n",
      "Requirement already satisfied: pandas in /home/cerchio/Documents/code/GDL_2022/venv/lib/python3.9/site-packages (from torch-spatiotemporal===0.1.1e) (1.4.2)\n",
      "Requirement already satisfied: pytorch_lightning>=1.5 in /home/cerchio/Documents/code/GDL_2022/venv/lib/python3.9/site-packages (from torch-spatiotemporal===0.1.1e) (1.6.0)\n",
      "Requirement already satisfied: scikit_learn in /home/cerchio/Documents/code/GDL_2022/venv/lib/python3.9/site-packages (from torch-spatiotemporal===0.1.1e) (1.0.2)\n",
      "Requirement already satisfied: scipy in /home/cerchio/Documents/code/GDL_2022/venv/lib/python3.9/site-packages (from torch-spatiotemporal===0.1.1e) (1.8.0)\n",
      "Requirement already satisfied: tables in /home/cerchio/Documents/code/GDL_2022/venv/lib/python3.9/site-packages (from torch-spatiotemporal===0.1.1e) (3.7.0)\n",
      "Requirement already satisfied: test_tube in /home/cerchio/Documents/code/GDL_2022/venv/lib/python3.9/site-packages (from torch-spatiotemporal===0.1.1e) (0.7.5)\n",
      "Requirement already satisfied: torch>=1.9 in /home/cerchio/Documents/code/GDL_2022/venv/lib/python3.9/site-packages (from torch-spatiotemporal===0.1.1e) (1.10.1+cu111)\n",
      "Requirement already satisfied: torch_geometric>=2.0 in /home/cerchio/Documents/code/GDL_2022/venv/lib/python3.9/site-packages (from torch-spatiotemporal===0.1.1e) (2.0.4)\n",
      "Requirement already satisfied: torchmetrics>=0.7 in /home/cerchio/Documents/code/GDL_2022/venv/lib/python3.9/site-packages (from torch-spatiotemporal===0.1.1e) (0.7.3)\n",
      "Requirement already satisfied: tqdm in /home/cerchio/Documents/code/GDL_2022/venv/lib/python3.9/site-packages (from torch-spatiotemporal===0.1.1e) (4.64.0)\n",
      "Requirement already satisfied: tensorboard>=2.2.0 in /home/cerchio/Documents/code/GDL_2022/venv/lib/python3.9/site-packages (from pytorch_lightning>=1.5->torch-spatiotemporal===0.1.1e) (2.8.0)\n",
      "Requirement already satisfied: fsspec[http]!=2021.06.0,>=2021.05.0 in /home/cerchio/Documents/code/GDL_2022/venv/lib/python3.9/site-packages (from pytorch_lightning>=1.5->torch-spatiotemporal===0.1.1e) (2022.3.0)\n",
      "Requirement already satisfied: packaging>=17.0 in /home/cerchio/Documents/code/GDL_2022/venv/lib/python3.9/site-packages (from pytorch_lightning>=1.5->torch-spatiotemporal===0.1.1e) (21.3)\n",
      "Requirement already satisfied: pyDeprecate<0.4.0,>=0.3.1 in /home/cerchio/Documents/code/GDL_2022/venv/lib/python3.9/site-packages (from pytorch_lightning>=1.5->torch-spatiotemporal===0.1.1e) (0.3.2)\n",
      "Requirement already satisfied: typing-extensions>=4.0.0 in /home/cerchio/Documents/code/GDL_2022/venv/lib/python3.9/site-packages (from pytorch_lightning>=1.5->torch-spatiotemporal===0.1.1e) (4.1.1)\n",
      "Requirement already satisfied: requests in /home/cerchio/Documents/code/GDL_2022/venv/lib/python3.9/site-packages (from fsspec[http]!=2021.06.0,>=2021.05.0->pytorch_lightning>=1.5->torch-spatiotemporal===0.1.1e) (2.27.1)\n",
      "Requirement already satisfied: aiohttp in /home/cerchio/Documents/code/GDL_2022/venv/lib/python3.9/site-packages (from fsspec[http]!=2021.06.0,>=2021.05.0->pytorch_lightning>=1.5->torch-spatiotemporal===0.1.1e) (3.8.1)\n",
      "Requirement already satisfied: pyparsing!=3.0.5,>=2.0.2 in /home/cerchio/Documents/code/GDL_2022/venv/lib/python3.9/site-packages (from packaging>=17.0->pytorch_lightning>=1.5->torch-spatiotemporal===0.1.1e) (3.0.7)\n",
      "Requirement already satisfied: werkzeug>=0.11.15 in /home/cerchio/Documents/code/GDL_2022/venv/lib/python3.9/site-packages (from tensorboard>=2.2.0->pytorch_lightning>=1.5->torch-spatiotemporal===0.1.1e) (2.1.1)\n",
      "Requirement already satisfied: absl-py>=0.4 in /home/cerchio/Documents/code/GDL_2022/venv/lib/python3.9/site-packages (from tensorboard>=2.2.0->pytorch_lightning>=1.5->torch-spatiotemporal===0.1.1e) (1.0.0)\n",
      "Requirement already satisfied: setuptools>=41.0.0 in /home/cerchio/Documents/code/GDL_2022/venv/lib/python3.9/site-packages (from tensorboard>=2.2.0->pytorch_lightning>=1.5->torch-spatiotemporal===0.1.1e) (44.1.1)\n",
      "Requirement already satisfied: google-auth-oauthlib<0.5,>=0.4.1 in /home/cerchio/Documents/code/GDL_2022/venv/lib/python3.9/site-packages (from tensorboard>=2.2.0->pytorch_lightning>=1.5->torch-spatiotemporal===0.1.1e) (0.4.6)\n",
      "Requirement already satisfied: tensorboard-data-server<0.7.0,>=0.6.0 in /home/cerchio/Documents/code/GDL_2022/venv/lib/python3.9/site-packages (from tensorboard>=2.2.0->pytorch_lightning>=1.5->torch-spatiotemporal===0.1.1e) (0.6.1)\n",
      "Requirement already satisfied: google-auth<3,>=1.6.3 in /home/cerchio/Documents/code/GDL_2022/venv/lib/python3.9/site-packages (from tensorboard>=2.2.0->pytorch_lightning>=1.5->torch-spatiotemporal===0.1.1e) (2.6.3)\n",
      "Requirement already satisfied: protobuf>=3.6.0 in /home/cerchio/Documents/code/GDL_2022/venv/lib/python3.9/site-packages (from tensorboard>=2.2.0->pytorch_lightning>=1.5->torch-spatiotemporal===0.1.1e) (3.20.0)\n",
      "Requirement already satisfied: grpcio>=1.24.3 in /home/cerchio/Documents/code/GDL_2022/venv/lib/python3.9/site-packages (from tensorboard>=2.2.0->pytorch_lightning>=1.5->torch-spatiotemporal===0.1.1e) (1.43.0)\n",
      "Requirement already satisfied: wheel>=0.26 in /home/cerchio/Documents/code/GDL_2022/venv/lib/python3.9/site-packages (from tensorboard>=2.2.0->pytorch_lightning>=1.5->torch-spatiotemporal===0.1.1e) (0.37.1)\n",
      "Requirement already satisfied: markdown>=2.6.8 in /home/cerchio/Documents/code/GDL_2022/venv/lib/python3.9/site-packages (from tensorboard>=2.2.0->pytorch_lightning>=1.5->torch-spatiotemporal===0.1.1e) (3.3.6)\n",
      "Requirement already satisfied: tensorboard-plugin-wit>=1.6.0 in /home/cerchio/Documents/code/GDL_2022/venv/lib/python3.9/site-packages (from tensorboard>=2.2.0->pytorch_lightning>=1.5->torch-spatiotemporal===0.1.1e) (1.8.1)\n",
      "Requirement already satisfied: six in /home/cerchio/Documents/code/GDL_2022/venv/lib/python3.9/site-packages (from absl-py>=0.4->tensorboard>=2.2.0->pytorch_lightning>=1.5->torch-spatiotemporal===0.1.1e) (1.16.0)\n",
      "Requirement already satisfied: cachetools<6.0,>=2.0.0 in /home/cerchio/Documents/code/GDL_2022/venv/lib/python3.9/site-packages (from google-auth<3,>=1.6.3->tensorboard>=2.2.0->pytorch_lightning>=1.5->torch-spatiotemporal===0.1.1e) (5.0.0)\n",
      "Requirement already satisfied: rsa<5,>=3.1.4 in /home/cerchio/Documents/code/GDL_2022/venv/lib/python3.9/site-packages (from google-auth<3,>=1.6.3->tensorboard>=2.2.0->pytorch_lightning>=1.5->torch-spatiotemporal===0.1.1e) (4.8)\n",
      "Requirement already satisfied: pyasn1-modules>=0.2.1 in /home/cerchio/Documents/code/GDL_2022/venv/lib/python3.9/site-packages (from google-auth<3,>=1.6.3->tensorboard>=2.2.0->pytorch_lightning>=1.5->torch-spatiotemporal===0.1.1e) (0.2.8)\n",
      "Requirement already satisfied: requests-oauthlib>=0.7.0 in /home/cerchio/Documents/code/GDL_2022/venv/lib/python3.9/site-packages (from google-auth-oauthlib<0.5,>=0.4.1->tensorboard>=2.2.0->pytorch_lightning>=1.5->torch-spatiotemporal===0.1.1e) (1.3.1)\n",
      "Requirement already satisfied: importlib-metadata>=4.4 in /home/cerchio/Documents/code/GDL_2022/venv/lib/python3.9/site-packages (from markdown>=2.6.8->tensorboard>=2.2.0->pytorch_lightning>=1.5->torch-spatiotemporal===0.1.1e) (4.11.3)\n",
      "Requirement already satisfied: zipp>=0.5 in /home/cerchio/Documents/code/GDL_2022/venv/lib/python3.9/site-packages (from importlib-metadata>=4.4->markdown>=2.6.8->tensorboard>=2.2.0->pytorch_lightning>=1.5->torch-spatiotemporal===0.1.1e) (3.8.0)\n",
      "Requirement already satisfied: pyasn1<0.5.0,>=0.4.6 in /home/cerchio/Documents/code/GDL_2022/venv/lib/python3.9/site-packages (from pyasn1-modules>=0.2.1->google-auth<3,>=1.6.3->tensorboard>=2.2.0->pytorch_lightning>=1.5->torch-spatiotemporal===0.1.1e) (0.4.8)\n",
      "Requirement already satisfied: idna<4,>=2.5 in /home/cerchio/Documents/code/GDL_2022/venv/lib/python3.9/site-packages (from requests->fsspec[http]!=2021.06.0,>=2021.05.0->pytorch_lightning>=1.5->torch-spatiotemporal===0.1.1e) (3.3)\n",
      "Requirement already satisfied: certifi>=2017.4.17 in /home/cerchio/Documents/code/GDL_2022/venv/lib/python3.9/site-packages (from requests->fsspec[http]!=2021.06.0,>=2021.05.0->pytorch_lightning>=1.5->torch-spatiotemporal===0.1.1e) (2021.10.8)\n",
      "Requirement already satisfied: charset-normalizer~=2.0.0 in /home/cerchio/Documents/code/GDL_2022/venv/lib/python3.9/site-packages (from requests->fsspec[http]!=2021.06.0,>=2021.05.0->pytorch_lightning>=1.5->torch-spatiotemporal===0.1.1e) (2.0.12)\n",
      "Requirement already satisfied: urllib3<1.27,>=1.21.1 in /home/cerchio/Documents/code/GDL_2022/venv/lib/python3.9/site-packages (from requests->fsspec[http]!=2021.06.0,>=2021.05.0->pytorch_lightning>=1.5->torch-spatiotemporal===0.1.1e) (1.26.9)\n",
      "Requirement already satisfied: oauthlib>=3.0.0 in /home/cerchio/Documents/code/GDL_2022/venv/lib/python3.9/site-packages (from requests-oauthlib>=0.7.0->google-auth-oauthlib<0.5,>=0.4.1->tensorboard>=2.2.0->pytorch_lightning>=1.5->torch-spatiotemporal===0.1.1e) (3.2.0)\n",
      "Requirement already satisfied: jinja2 in /home/cerchio/Documents/code/GDL_2022/venv/lib/python3.9/site-packages (from torch_geometric>=2.0->torch-spatiotemporal===0.1.1e) (3.1.1)\n",
      "Requirement already satisfied: aiosignal>=1.1.2 in /home/cerchio/Documents/code/GDL_2022/venv/lib/python3.9/site-packages (from aiohttp->fsspec[http]!=2021.06.0,>=2021.05.0->pytorch_lightning>=1.5->torch-spatiotemporal===0.1.1e) (1.2.0)\n",
      "Requirement already satisfied: multidict<7.0,>=4.5 in /home/cerchio/Documents/code/GDL_2022/venv/lib/python3.9/site-packages (from aiohttp->fsspec[http]!=2021.06.0,>=2021.05.0->pytorch_lightning>=1.5->torch-spatiotemporal===0.1.1e) (6.0.2)\n",
      "Requirement already satisfied: yarl<2.0,>=1.0 in /home/cerchio/Documents/code/GDL_2022/venv/lib/python3.9/site-packages (from aiohttp->fsspec[http]!=2021.06.0,>=2021.05.0->pytorch_lightning>=1.5->torch-spatiotemporal===0.1.1e) (1.7.2)\n",
      "Requirement already satisfied: frozenlist>=1.1.1 in /home/cerchio/Documents/code/GDL_2022/venv/lib/python3.9/site-packages (from aiohttp->fsspec[http]!=2021.06.0,>=2021.05.0->pytorch_lightning>=1.5->torch-spatiotemporal===0.1.1e) (1.3.0)\n",
      "Requirement already satisfied: async-timeout<5.0,>=4.0.0a3 in /home/cerchio/Documents/code/GDL_2022/venv/lib/python3.9/site-packages (from aiohttp->fsspec[http]!=2021.06.0,>=2021.05.0->pytorch_lightning>=1.5->torch-spatiotemporal===0.1.1e) (4.0.2)\n",
      "Requirement already satisfied: attrs>=17.3.0 in /home/cerchio/Documents/code/GDL_2022/venv/lib/python3.9/site-packages (from aiohttp->fsspec[http]!=2021.06.0,>=2021.05.0->pytorch_lightning>=1.5->torch-spatiotemporal===0.1.1e) (21.4.0)\n",
      "Requirement already satisfied: MarkupSafe>=2.0 in /home/cerchio/Documents/code/GDL_2022/venv/lib/python3.9/site-packages (from jinja2->torch_geometric>=2.0->torch-spatiotemporal===0.1.1e) (2.1.1)\n",
      "Requirement already satisfied: pytz>=2020.1 in /home/cerchio/Documents/code/GDL_2022/venv/lib/python3.9/site-packages (from pandas->torch-spatiotemporal===0.1.1e) (2022.1)\n",
      "Requirement already satisfied: python-dateutil>=2.8.1 in /home/cerchio/Documents/code/GDL_2022/venv/lib/python3.9/site-packages (from pandas->torch-spatiotemporal===0.1.1e) (2.8.2)\n",
      "Requirement already satisfied: threadpoolctl>=2.0.0 in /home/cerchio/Documents/code/GDL_2022/venv/lib/python3.9/site-packages (from scikit_learn->torch-spatiotemporal===0.1.1e) (3.1.0)\n",
      "Requirement already satisfied: joblib>=0.11 in /home/cerchio/Documents/code/GDL_2022/venv/lib/python3.9/site-packages (from scikit_learn->torch-spatiotemporal===0.1.1e) (1.1.0)\n",
      "Requirement already satisfied: numexpr>=2.6.2 in /home/cerchio/Documents/code/GDL_2022/venv/lib/python3.9/site-packages (from tables->torch-spatiotemporal===0.1.1e) (2.8.1)\n",
      "Requirement already satisfied: future in /home/cerchio/Documents/code/GDL_2022/venv/lib/python3.9/site-packages (from test_tube->torch-spatiotemporal===0.1.1e) (0.18.2)\n",
      "Requirement already satisfied: imageio>=2.3.0 in /home/cerchio/Documents/code/GDL_2022/venv/lib/python3.9/site-packages (from test_tube->torch-spatiotemporal===0.1.1e) (2.16.1)\n",
      "Requirement already satisfied: pillow>=8.3.2 in /home/cerchio/Documents/code/GDL_2022/venv/lib/python3.9/site-packages (from imageio>=2.3.0->test_tube->torch-spatiotemporal===0.1.1e) (9.1.0)\n",
      "Building wheels for collected packages: torch-spatiotemporal\n",
      "  Building wheel for torch-spatiotemporal (setup.py) ... \u001b[?25ldone\n",
      "\u001b[?25h  Created wheel for torch-spatiotemporal: filename=torch_spatiotemporal-0.1.1e-py3-none-any.whl size=159933 sha256=aca47987e35a315da21e66d3ed8ef6e2bd1f23416efd2352253e0443bc1899c3\n",
      "  Stored in directory: /tmp/pip-ephem-wheel-cache-hszoqtsh/wheels/4a/16/06/49d24bb60326d9f13e0316f97aa48f7ac973d9f710885c9d33\n",
      "\u001b[33m  WARNING: Built wheel for torch-spatiotemporal is invalid: Metadata 1.2 mandates PEP 440 version, but '0.1.1e' is not\u001b[0m\n",
      "Failed to build torch-spatiotemporal\n",
      "Installing collected packages: torch-spatiotemporal\n",
      "  Attempting uninstall: torch-spatiotemporal\n",
      "    Found existing installation: torch-spatiotemporal 0.1.1e\n",
      "    Uninstalling torch-spatiotemporal-0.1.1e:\n",
      "      Successfully uninstalled torch-spatiotemporal-0.1.1e\n",
      "    Running setup.py install for torch-spatiotemporal ... \u001b[?25ldone\n",
      "\u001b[?25h\u001b[33m  DEPRECATION: torch-spatiotemporal was installed using the legacy 'setup.py install' method, because a wheel could not be built for it. pip 21.0 will remove support for this functionality. A possible replacement is to fix the wheel build issue reported above. You can find discussion regarding this at https://github.com/pypa/pip/issues/8368.\u001b[0m\n",
      "Successfully installed torch-spatiotemporal-0.1.1e\n",
      "The tensorboard extension is already loaded. To reload it, use:\n",
      "  %reload_ext tensorboard\n"
     ]
    },
    {
     "data": {
      "text/plain": [
       "Reusing TensorBoard on port 6006 (pid 32114), started 11:17:12 ago. (Use '!kill 32114' to kill it.)"
      ]
     },
     "metadata": {},
     "output_type": "display_data"
    },
    {
     "data": {
      "text/html": [
       "\n",
       "      <iframe id=\"tensorboard-frame-57d19e6136150654\" width=\"100%\" height=\"800\" frameborder=\"0\">\n",
       "      </iframe>\n",
       "      <script>\n",
       "        (function() {\n",
       "          const frame = document.getElementById(\"tensorboard-frame-57d19e6136150654\");\n",
       "          const url = new URL(\"http://localhost\");\n",
       "          const port = 6006;\n",
       "          if (port) {\n",
       "            url.port = port;\n",
       "          }\n",
       "          frame.src = url;\n",
       "        })();\n",
       "      </script>\n",
       "    "
      ],
      "text/plain": [
       "<IPython.core.display.HTML object>"
      ]
     },
     "metadata": {},
     "output_type": "display_data"
    }
   ],
   "source": [
    "!pip install torch==1.10.1+cu111 torchvision==0.11.2+cu111 torchaudio==0.10.1 -f https://download.pytorch.org/whl/torch_stable.html\n",
    "!pip install torch-scatter torch-sparse torch-geometric -f https://data.pyg.org/whl/torch-1.10.1+cu113.html\n",
    "!pip install ../tsl\n",
    "%load_ext tensorboard\n",
    "%tensorboard --logdir logs"
   ]
  },
  {
   "cell_type": "code",
   "execution_count": 104,
   "metadata": {},
   "outputs": [],
   "source": [
    "import pytorch_lightning as pl\n",
    "from pytorch_lightning.callbacks import EarlyStopping, ModelCheckpoint\n",
    "import tsl\n",
    "from tsl.data import SpatioTemporalDataset, SpatioTemporalDataModule\n",
    "from tsl.data.preprocessing import StandardScaler\n",
    "from tsl.datasets import MetrLA, PemsBay, Portland\n",
    "from tsl.nn.metrics.metrics import MaskedMAE, MaskedMSE\n",
    "from tsl.utils.neptune_utils import TslNeptuneLogger\n",
    "import torch\n",
    "import numpy as np\n",
    "from tsl.predictors import Predictor\n",
    "import tsl\n",
    "import torch"
   ]
  },
  {
   "cell_type": "code",
   "execution_count": 105,
   "metadata": {},
   "outputs": [
    {
     "name": "stdout",
     "output_type": "stream",
     "text": [
      "tsl version  : 0.1.1e\n",
      "torch version: 1.10.1+cu111\n"
     ]
    }
   ],
   "source": [
    "np.set_printoptions(suppress=True)\n",
    "tsl.logger.disabled = True\n",
    "print(f\"tsl version  : {tsl.__version__}\")\n",
    "print(f\"torch version: {torch.__version__}\")"
   ]
  },
  {
   "cell_type": "code",
   "execution_count": 106,
   "metadata": {},
   "outputs": [],
   "source": [
    "# Datasets initialization\n",
    "\n",
    "portland_dataset = Portland()\n",
    "metr_la_dataset = MetrLA()\n",
    "pems_dataset = PemsBay()\n",
    "\n",
    "portland_adj = portland_dataset.get_connectivity(threshold=0,\n",
    "                                                 include_self=False,\n",
    "                                                 normalize_axis=1,\n",
    "                                                 layout=\"edge_index\")\n",
    "\n",
    "\n",
    "metr_la_adj = metr_la_dataset.get_connectivity(threshold=0,\n",
    "                                               include_self=False,\n",
    "                                               normalize_axis=1,\n",
    "                                               layout=\"edge_index\")\n",
    "\n",
    "\n",
    "pems_adj = pems_dataset.get_connectivity(threshold=0,\n",
    "                                         include_self=False,\n",
    "                                         normalize_axis=1,\n",
    "                                         layout=\"edge_index\")\n",
    "\n",
    "portland_edge_index, portland_edge_weight = portland_adj\n",
    "metr_la_edge_index, metr_la_edge_weight = metr_la_adj\n",
    "pems_edge_index, pems_edge_weight = pems_adj\n"
   ]
  },
  {
   "cell_type": "code",
   "execution_count": 107,
   "metadata": {},
   "outputs": [],
   "source": [
    "# encode time of the day and use it as exogenous variable.\n",
    "portland_exog_vars = portland_dataset.datetime_encoded('day').values\n",
    "portland_exog_vars = {'global_u': portland_exog_vars}\n",
    "# encode time of the day and use it as exogenous variable.\n",
    "metr_la_exog_vars = metr_la_dataset.datetime_encoded('day').values\n",
    "metr_la_exog_vars = {'global_u': metr_la_exog_vars}\n",
    "# encode time of the day and use it as exogenous variable.\n",
    "pems_exog_vars = pems_dataset.datetime_encoded('day').values\n",
    "pems_exog_vars = {'global_u': pems_exog_vars}"
   ]
  },
  {
   "cell_type": "code",
   "execution_count": 108,
   "metadata": {},
   "outputs": [],
   "source": [
    "from tsl.data import SpatioTemporalDataset\n",
    "\n",
    "portland_torch = SpatioTemporalDataset(*portland_dataset.numpy(return_idx=True),\n",
    "                                       connectivity=portland_adj,\n",
    "                                       horizon=12,\n",
    "                                       window=12,\n",
    "                                       mask=portland_dataset.mask,\n",
    "                                       exogenous=portland_exog_vars\n",
    "                                       )\n",
    "\n",
    "metr_la_torch = SpatioTemporalDataset(*metr_la_dataset.numpy(return_idx=True),\n",
    "                                      connectivity=metr_la_adj,\n",
    "                                      horizon=12,\n",
    "                                      window=12,\n",
    "                                      mask=metr_la_dataset.mask,\n",
    "                                      exogenous=metr_la_exog_vars\n",
    "                                      )\n",
    "\n",
    "pems_torch = SpatioTemporalDataset(*pems_dataset.numpy(return_idx=True),\n",
    "                                   connectivity=pems_adj,\n",
    "                                   horizon=12,\n",
    "                                   window=12,\n",
    "                                   mask=pems_dataset.mask,\n",
    "                                   exogenous=pems_exog_vars\n",
    "                                   )\n"
   ]
  },
  {
   "cell_type": "code",
   "execution_count": 109,
   "metadata": {},
   "outputs": [],
   "source": [
    "from tsl.data import SpatioTemporalDataModule\n",
    "from tsl.data.preprocessing import StandardScaler\n",
    "\n",
    "scalers = {'data': StandardScaler(axis=(0, 1))}\n",
    "\n",
    "portland_splitter = portland_dataset.get_splitter(val_len=0.1, test_len=0.2)\n",
    "metr_la_splitter = metr_la_dataset.get_splitter(val_len=0.1, test_len=0.2)\n",
    "pems_splitter = pems_dataset.get_splitter(val_len=0.1, test_len=0.2)\n",
    "\n",
    "\n",
    "portland_dm = SpatioTemporalDataModule(\n",
    "    dataset=portland_torch,\n",
    "    scalers=scalers,\n",
    "    splitter=portland_splitter,\n",
    "    batch_size=64,\n",
    ")\n",
    "\n",
    "metr_la_dm = SpatioTemporalDataModule(\n",
    "    dataset=metr_la_torch,\n",
    "    scalers=scalers,\n",
    "    splitter=metr_la_splitter,\n",
    "    batch_size=64,\n",
    ")\n",
    "\n",
    "\n",
    "pems_dm = SpatioTemporalDataModule(\n",
    "    dataset=pems_torch,\n",
    "    scalers=scalers,\n",
    "    splitter=pems_splitter,\n",
    "    batch_size=64,\n",
    ")"
   ]
  },
  {
   "cell_type": "code",
   "execution_count": 110,
   "metadata": {},
   "outputs": [],
   "source": [
    "# Execute preprocessing\n",
    "portland_dm.setup()\n",
    "metr_la_dm.setup()\n",
    "pems_dm.setup()"
   ]
  },
  {
   "cell_type": "code",
   "execution_count": 111,
   "metadata": {},
   "outputs": [],
   "source": [
    "# Setting loss functions and metrics\n",
    "loss_function = MaskedMAE()\n",
    "\n",
    "metrics = {\n",
    "    # Mean absolute error\n",
    "    \"mae\": MaskedMAE(compute_on_step=False),\n",
    "    \"mae_at_15\": MaskedMAE(compute_on_step=False, at=2),\n",
    "    \"mae_at_30\": MaskedMAE(compute_on_step=False, at=5),\n",
    "    \"mae_at_60\": MaskedMAE(compute_on_step=False, at=11),\n",
    "    # Mean Square Error\n",
    "    \"mse\": MaskedMSE(compute_on_step=False),\n",
    "    \"mse_at_15\": MaskedMSE(compute_on_step=False, at=2),\n",
    "    \"mse_at_30\": MaskedMSE(compute_on_step=False, at=5),\n",
    "    \"mse_at_60\": MaskedMSE(compute_on_step=False, at=11),\n",
    "}\n"
   ]
  },
  {
   "cell_type": "code",
   "execution_count": 112,
   "metadata": {},
   "outputs": [
    {
     "name": "stderr",
     "output_type": "stream",
     "text": [
      "/home/cerchio/Documents/code/GDL_2022/venv/lib/python3.9/site-packages/pytorch_lightning/utilities/parsing.py:244: UserWarning: Attribute 'loss_fn' is an instance of `nn.Module` and is already saved during checkpointing. It is recommended to ignore them using `self.save_hyperparameters(ignore=['loss_fn'])`.\n",
      "  rank_zero_warn(\n"
     ]
    }
   ],
   "source": [
    "# Model hyperparameters\n",
    "model_kwargs = {\n",
    "    \"input_size\": portland_torch.n_channels,\n",
    "    \"exog_size\": portland_torch.input_map.u.n_channels,\n",
    "    \"hidden_size\": 32,\n",
    "    \"ff_size\": 512,\n",
    "    \"output_size\": portland_torch.n_channels,\n",
    "    \"n_layers\": 8,\n",
    "    \"horizon\": 12,\n",
    "    \"temporal_kernel_size\": 1,\n",
    "    \"spatial_kernel_size\": 2,\n",
    "    \"learned_adjacency\": True,\n",
    "    \"n_nodes\": portland_dataset.n_nodes,\n",
    "    \"emb_size\": 10,\n",
    "    \"dilation\": 1,\n",
    "    \"dilation_mod\": 2,\n",
    "    \"norm\": \"batch\",\n",
    "    \"dropout\": 0.3,\n",
    "}\n",
    "\n",
    "# Predictior settings\n",
    "predictor = Predictor(\n",
    "    model_class=tsl.nn.models.stgn.GraphWaveNetModel,\n",
    "    model_kwargs=model_kwargs,\n",
    "    optim_class=torch.optim.Adam,\n",
    "    optim_kwargs={\"lr\": 0.001, \"weight_decay\": 0.0001},\n",
    "    loss_fn=loss_function,\n",
    "    metrics=metrics,\n",
    ")\n"
   ]
  },
  {
   "cell_type": "code",
   "execution_count": 16,
   "metadata": {},
   "outputs": [
    {
     "name": "stdout",
     "output_type": "stream",
     "text": [
      "https://app.neptune.ai/matteo-maggiolo/graph/e/GRAP-29\n",
      "Remember to stop your run once you’ve finished logging your metadata (https://docs.neptune.ai/api-reference/run#.stop). It will be stopped automatically only when the notebook kernel/interactive console is terminated.\n"
     ]
    }
   ],
   "source": [
    "# Neptune logging initialization\n",
    "npt_logger = TslNeptuneLogger(api_key=\"API_KEY\",\n",
    "                              project_name=\"username/project\",\n",
    "                              experiment_name=\"experiment_name\",\n",
    "                              tags=[],\n",
    "                              params=model_kwargs,\n",
    "                              upload_stdout=False)\n"
   ]
  },
  {
   "cell_type": "code",
   "execution_count": 113,
   "metadata": {},
   "outputs": [
    {
     "name": "stderr",
     "output_type": "stream",
     "text": [
      "GPU available: True, used: True\n",
      "TPU available: False, using: 0 TPU cores\n",
      "IPU available: False, using: 0 IPUs\n",
      "HPU available: False, using: 0 HPUs\n"
     ]
    }
   ],
   "source": [
    "# Callback to save model parameters\n",
    "checkpoint_callback = ModelCheckpoint(\n",
    "    dirpath=\"logs\",\n",
    "    save_top_k=1,\n",
    "    monitor=\"val_mae\",\n",
    "    mode=\"min\",\n",
    ")\n",
    "\n",
    "# Early stopping\n",
    "early_stop_callback = EarlyStopping(\n",
    "    monitor='val_mae',\n",
    "    patience=20,\n",
    "    mode='min'\n",
    ")\n",
    "\n",
    "trainer = pl.Trainer(\n",
    "    max_epochs=100,\n",
    "    gpus=1,\n",
    "    limit_train_batches=100,\n",
    "    callbacks=[early_stop_callback, checkpoint_callback],\n",
    "    logger=npt_logger,\n",
    ")\n"
   ]
  },
  {
   "cell_type": "code",
   "execution_count": 114,
   "metadata": {},
   "outputs": [
    {
     "name": "stderr",
     "output_type": "stream",
     "text": [
      "/home/cerchio/Documents/code/GDL_2022/venv/lib/python3.9/site-packages/pytorch_lightning/callbacks/model_checkpoint.py:608: UserWarning: Checkpoint directory /home/cerchio/Documents/code/GDL_2022/experiments/logs exists and is not empty.\n",
      "  rank_zero_warn(f\"Checkpoint directory {dirpath} exists and is not empty.\")\n",
      "LOCAL_RANK: 0 - CUDA_VISIBLE_DEVICES: [0]\n",
      "\n",
      "  | Name          | Type              | Params\n",
      "----------------------------------------------------\n",
      "0 | loss_fn       | MaskedMAE         | 0     \n",
      "1 | train_metrics | MetricCollection  | 0     \n",
      "2 | val_metrics   | MetricCollection  | 0     \n",
      "3 | test_metrics  | MetricCollection  | 0     \n",
      "4 | model         | GraphWaveNetModel | 749 K \n",
      "----------------------------------------------------\n",
      "749 K     Trainable params\n",
      "0         Non-trainable params\n",
      "749 K     Total params\n",
      "2.998     Total estimated model params size (MB)\n"
     ]
    },
    {
     "data": {
      "application/vnd.jupyter.widget-view+json": {
       "model_id": "ef76c141a5cc4761ab648ec231066954",
       "version_major": 2,
       "version_minor": 0
      },
      "text/plain": [
       "Sanity Checking: 0it [00:00, ?it/s]"
      ]
     },
     "metadata": {},
     "output_type": "display_data"
    },
    {
     "name": "stderr",
     "output_type": "stream",
     "text": [
      "/home/cerchio/Documents/code/GDL_2022/venv/lib/python3.9/site-packages/pytorch_lightning/trainer/connectors/data_connector.py:240: PossibleUserWarning: The dataloader, val_dataloader 0, does not have many workers which may be a bottleneck. Consider increasing the value of the `num_workers` argument` (try 16 which is the number of cpus on this machine) in the `DataLoader` init to improve performance.\n",
      "  rank_zero_warn(\n",
      "/home/cerchio/Documents/code/GDL_2022/venv/lib/python3.9/site-packages/pytorch_lightning/trainer/connectors/data_connector.py:240: PossibleUserWarning: The dataloader, train_dataloader, does not have many workers which may be a bottleneck. Consider increasing the value of the `num_workers` argument` (try 16 which is the number of cpus on this machine) in the `DataLoader` init to improve performance.\n",
      "  rank_zero_warn(\n"
     ]
    },
    {
     "data": {
      "application/vnd.jupyter.widget-view+json": {
       "model_id": "3bd3a6f43b464635b6a7fd2b16f0df36",
       "version_major": 2,
       "version_minor": 0
      },
      "text/plain": [
       "Training: 0it [00:00, ?it/s]"
      ]
     },
     "metadata": {},
     "output_type": "display_data"
    },
    {
     "name": "stderr",
     "output_type": "stream",
     "text": [
      "/home/cerchio/Documents/code/GDL_2022/venv/lib/python3.9/site-packages/pytorch_lightning/trainer/trainer.py:727: UserWarning: Detected KeyboardInterrupt, attempting graceful shutdown...\n",
      "  rank_zero_warn(\"Detected KeyboardInterrupt, attempting graceful shutdown...\")\n"
     ]
    }
   ],
   "source": [
    "# Begin training\n",
    "trainer.fit(predictor, datamodule=portland_dm)"
   ]
  },
  {
   "cell_type": "code",
   "execution_count": 15,
   "metadata": {},
   "outputs": [
    {
     "name": "stderr",
     "output_type": "stream",
     "text": [
      "LOCAL_RANK: 0 - CUDA_VISIBLE_DEVICES: [0]\n",
      "/home/cerchio/Documents/code/GDL_2022/venv/lib/python3.9/site-packages/pytorch_lightning/trainer/connectors/data_connector.py:240: PossibleUserWarning: The dataloader, test_dataloader 0, does not have many workers which may be a bottleneck. Consider increasing the value of the `num_workers` argument` (try 16 which is the number of cpus on this machine) in the `DataLoader` init to improve performance.\n",
      "  rank_zero_warn(\n"
     ]
    },
    {
     "data": {
      "application/vnd.jupyter.widget-view+json": {
       "model_id": "3a95fc22e52b4a1fb7645c344364f04d",
       "version_major": 2,
       "version_minor": 0
      },
      "text/plain": [
       "Testing: 0it [00:00, ?it/s]"
      ]
     },
     "metadata": {},
     "output_type": "display_data"
    },
    {
     "name": "stdout",
     "output_type": "stream",
     "text": [
      "────────────────────────────────────────────────────────────────────────────────────────────────────────────────────────\n",
      "       Test metric             DataLoader 0\n",
      "────────────────────────────────────────────────────────────────────────────────────────────────────────────────────────\n",
      "        test_loss           1.7305392026901245\n",
      "        test_mae            1.7305386066436768\n",
      "     test_mae_at_15          1.448764443397522\n",
      "     test_mae_at_30         1.7953178882598877\n",
      "     test_mae_at_60         2.1269426345825195\n",
      "        test_mse            14.747586250305176\n",
      "     test_mse_at_15          9.119132995605469\n",
      "     test_mse_at_30         15.373496055603027\n",
      "     test_mse_at_60          22.11382293701172\n",
      "────────────────────────────────────────────────────────────────────────────────────────────────────────────────────────\n"
     ]
    }
   ],
   "source": [
    "# Loading best model and test it\n",
    "predictor.load_model(checkpoint_callback.best_model_path)\n",
    "predictor.freeze()\n",
    "performance = trainer.test(predictor, datamodule=pems_dm)"
   ]
  },
  {
   "cell_type": "code",
   "execution_count": 17,
   "metadata": {},
   "outputs": [],
   "source": [
    "# Log validation metrics\n",
    "npt_logger.finalize('success')\n",
    "performance[0][\"df\"] = \"pems\"\n",
    "tsl.logger.info(performance)"
   ]
  }
 ],
 "metadata": {
  "interpreter": {
   "hash": "8e29a8ce8fbcc9a7e060e65e645dac1478ed3988d5be3c151c501e9d01c488ca"
  },
  "kernelspec": {
   "display_name": "Python 3.9.7 ('venv': venv)",
   "language": "python",
   "name": "python3"
  },
  "language_info": {
   "codemirror_mode": {
    "name": "ipython",
    "version": 3
   },
   "file_extension": ".py",
   "mimetype": "text/x-python",
   "name": "python",
   "nbconvert_exporter": "python",
   "pygments_lexer": "ipython3",
   "version": "3.9.7"
  },
  "orig_nbformat": 4
 },
 "nbformat": 4,
 "nbformat_minor": 2
}
